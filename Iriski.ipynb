{
  "nbformat": 4,
  "nbformat_minor": 0,
  "metadata": {
    "colab": {
      "name": "Iriski.ipynb",
      "provenance": [],
      "toc_visible": true,
      "include_colab_link": true
    },
    "kernelspec": {
      "name": "python3",
      "display_name": "Python 3"
    }
  },
  "cells": [
    {
      "cell_type": "markdown",
      "metadata": {
        "id": "view-in-github",
        "colab_type": "text"
      },
      "source": [
        "<a href=\"https://colab.research.google.com/github/Sunamur/DMIA2018_Fall_public/blob/master/Iriski.ipynb\" target=\"_parent\"><img src=\"https://colab.research.google.com/assets/colab-badge.svg\" alt=\"Open In Colab\"/></a>"
      ]
    },
    {
      "cell_type": "markdown",
      "metadata": {
        "id": "7qA97MVsS7Bq",
        "colab_type": "text"
      },
      "source": [
        "# Выделенные риск-факторы"
      ]
    },
    {
      "cell_type": "markdown",
      "metadata": {
        "id": "8M6J22EiTM5O",
        "colab_type": "text"
      },
      "source": [
        "# Стохастическая модель динамики "
      ]
    },
    {
      "cell_type": "markdown",
      "metadata": {
        "id": "Nuu2CulBTbKq",
        "colab_type": "text"
      },
      "source": [
        "# Оценка справедливой стоимости в зависимости от риск-факторов"
      ]
    },
    {
      "cell_type": "markdown",
      "metadata": {
        "id": "kIy-17dsTvKF",
        "colab_type": "text"
      },
      "source": [
        "лул кек потерян человек"
      ]
    },
    {
      "cell_type": "markdown",
      "metadata": {
        "id": "1-JmQH3VTu1-",
        "colab_type": "text"
      },
      "source": [
        ""
      ]
    },
    {
      "cell_type": "markdown",
      "metadata": {
        "id": "Gmm_ynGtTulX",
        "colab_type": "text"
      },
      "source": [
        ""
      ]
    }
  ]
}